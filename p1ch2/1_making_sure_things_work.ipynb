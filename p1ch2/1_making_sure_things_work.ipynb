{
 "cells": [
  {
   "cell_type": "code",
   "execution_count": 1,
   "metadata": {},
   "outputs": [],
   "source": [
    "import torch\n"
   ]
  },
  {
   "cell_type": "code",
   "execution_count": 2,
   "metadata": {},
   "outputs": [
    {
     "data": {
      "text/plain": [
       "'2.1.0'"
      ]
     },
     "execution_count": 2,
     "metadata": {},
     "output_type": "execute_result"
    }
   ],
   "source": [
    "torch.version.__version__"
   ]
  },
  {
   "cell_type": "code",
   "execution_count": 3,
   "metadata": {},
   "outputs": [],
   "source": [
    "a = torch.ones(3,3)"
   ]
  },
  {
   "cell_type": "code",
   "execution_count": 4,
   "metadata": {},
   "outputs": [],
   "source": [
    "b = torch.ones(3,3)"
   ]
  },
  {
   "cell_type": "code",
   "execution_count": 5,
   "metadata": {},
   "outputs": [
    {
     "data": {
      "text/plain": [
       "tensor([[2., 2., 2.],\n",
       "        [2., 2., 2.],\n",
       "        [2., 2., 2.]])"
      ]
     },
     "execution_count": 5,
     "metadata": {},
     "output_type": "execute_result"
    }
   ],
   "source": [
    "a + b"
   ]
  },
  {
   "cell_type": "code",
   "execution_count": 7,
   "metadata": {},
   "outputs": [
    {
     "data": {
      "text/plain": [
       "tensor([[2., 2., 2.],\n",
       "        [2., 2., 2.],\n",
       "        [2., 2., 2.]])"
      ]
     },
     "execution_count": 7,
     "metadata": {},
     "output_type": "execute_result"
    }
   ],
   "source": [
    "# CUDA (Compute Unified Device Architecture) is a parallel computing platform \n",
    "# and application programming interface (API) model created by NVIDIA. \n",
    "# It allows software developers to use a CUDA-enabled graphics processing unit \n",
    "# (GPU) for general purpose processing, \n",
    "# which is known as GPGPU (General-Purpose computing on Graphics Processing Units).\n",
    "\n",
    "# In the context of machine learning and data science, CUDA is often used to accelerate \n",
    "# computations by offloading intensive processing tasks from the CPU to the GPU. \n",
    "# Libraries like PyTorch and TensorFlow can be configured to use CUDA for GPU-accelerated computing.\n",
    "\n",
    "# CUDA is a technology developed by NVIDIA for its graphics processing units (GPUs). \n",
    "# Apple computers, on the other hand, use either Intel integrated graphics or \n",
    "# their own custom-designed GPUs in the M1 and M2 chips, neither of which are compatible with CUDA.\n",
    "# In the past, when Apple computers used NVIDIA GPUs, CUDA could be used on Macs. \n",
    "# However, Apple has since transitioned away from NVIDIA GPUs to AMD GPUs and \n",
    "# more recently to their own Apple Silicon GPUs.\n",
    "# As a result, CUDA is not available on modern Macs. \n",
    "# Instead, Apple provides its own GPU computing framework, known as Metal. \n",
    "# For machine learning tasks, Apple provides the Core ML framework, \n",
    "# which can use the GPU on Apple Silicon Macs.\n",
    "\n",
    "# GPU accelaration is not straighforward for M1 and M2 chips with PyTorch\n",
    "a = a.to('cpu') # a.to('cuda')\n",
    "b = b.to('cpu')\n",
    "a + b"
   ]
  },
  {
   "cell_type": "code",
   "execution_count": 8,
   "metadata": {},
   "outputs": [
    {
     "data": {
      "text/plain": [
       "False"
      ]
     },
     "execution_count": 8,
     "metadata": {},
     "output_type": "execute_result"
    }
   ],
   "source": [
    "torch.cuda.is_available()"
   ]
  },
  {
   "cell_type": "code",
   "execution_count": 9,
   "metadata": {},
   "outputs": [
    {
     "name": "stdout",
     "output_type": "stream",
     "text": [
      "Python 3.10.12\n"
     ]
    }
   ],
   "source": [
    "!python --version"
   ]
  },
  {
   "cell_type": "code",
   "execution_count": 12,
   "metadata": {},
   "outputs": [
    {
     "data": {
      "text/plain": [
       "'/Users/katekuzmina/views_prio/pytorch_course/.venv/lib/python3.10/site-packages/torch/__init__.py'"
      ]
     },
     "execution_count": 12,
     "metadata": {},
     "output_type": "execute_result"
    }
   ],
   "source": [
    "torch.__file__"
   ]
  },
  {
   "cell_type": "code",
   "execution_count": null,
   "metadata": {},
   "outputs": [],
   "source": []
  }
 ],
 "metadata": {
  "kernelspec": {
   "display_name": "Python 3",
   "language": "python",
   "name": "python3"
  },
  "language_info": {
   "codemirror_mode": {
    "name": "ipython",
    "version": 3
   },
   "file_extension": ".py",
   "mimetype": "text/x-python",
   "name": "python",
   "nbconvert_exporter": "python",
   "pygments_lexer": "ipython3",
   "version": "3.10.12"
  }
 },
 "nbformat": 4,
 "nbformat_minor": 2
}
